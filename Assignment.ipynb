{
  "metadata": {
    "language_info": {
      "codemirror_mode": {
        "name": "python",
        "version": 3
      },
      "file_extension": ".py",
      "mimetype": "text/x-python",
      "name": "python",
      "nbconvert_exporter": "python",
      "pygments_lexer": "ipython3",
      "version": "3.8"
    },
    "kernelspec": {
      "name": "python",
      "display_name": "Pyolite",
      "language": "python"
    }
  },
  "nbformat_minor": 4,
  "nbformat": 4,
  "cells": [
    {
      "cell_type": "markdown",
      "source": "# My Jupyter Notebook on IBM Watson Studio",
      "metadata": {}
    },
    {
      "cell_type": "markdown",
      "source": "**SNEHA VARKEY**\nData Scientist",
      "metadata": {}
    },
    {
      "cell_type": "markdown",
      "source": "*I am interested in data science because I am passionated about resolving problems with advanced technologies and trying out innovative solutions.I believe I can bring lot of improvements to my current workplace with data science application*",
      "metadata": {}
    },
    {
      "cell_type": "markdown",
      "source": "### Write and execute the code - In the cell below type in any simply math operation. For example - type 5+7 and execute the code by clikcing on play button or by pressing shift+enter and you should see the output as 12",
      "metadata": {}
    },
    {
      "cell_type": "code",
      "source": "5+7",
      "metadata": {
        "trusted": true
      },
      "execution_count": 3,
      "outputs": [
        {
          "execution_count": 3,
          "output_type": "execute_result",
          "data": {
            "text/plain": "12"
          },
          "metadata": {}
        }
      ]
    },
    {
      "cell_type": "markdown",
      "source": "|Name|Age|Score|\n|---|---|---|\n|Chris|27|5.6|\n|Tom|26|7.9|\n|Sam|28|6.7|\n|David|27|8.9|",
      "metadata": {}
    },
    {
      "cell_type": "markdown",
      "source": "**_To get a better understanding please visit <http://www.google.com> ~~but not the webpage~~_**",
      "metadata": {}
    },
    {
      "cell_type": "markdown",
      "source": "+ item 1\n+ item 2\n+ item 3",
      "metadata": {}
    },
    {
      "cell_type": "code",
      "source": "",
      "metadata": {},
      "execution_count": null,
      "outputs": []
    }
  ]
}